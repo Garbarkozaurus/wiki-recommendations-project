{
 "cells": [
  {
   "cell_type": "code",
   "execution_count": 1,
   "metadata": {},
   "outputs": [],
   "source": [
    "import pandas as pd\n",
    "from sklearn.feature_extraction.text import CountVectorizer, TfidfVectorizer\n",
    "import numpy as np\n",
    "from scipy.spatial.distance import cosine"
   ]
  },
  {
   "cell_type": "markdown",
   "metadata": {},
   "source": [
    "## Loading csv data"
   ]
  },
  {
   "cell_type": "code",
   "execution_count": 4,
   "metadata": {},
   "outputs": [],
   "source": [
    "data_file = \"./data/dummy_docs.csv.txt\"\n",
    "processed_database = pd.read_csv(data_file)"
   ]
  },
  {
   "cell_type": "code",
   "execution_count": 5,
   "metadata": {},
   "outputs": [
    {
     "data": {
      "text/html": [
       "<div>\n",
       "<style scoped>\n",
       "    .dataframe tbody tr th:only-of-type {\n",
       "        vertical-align: middle;\n",
       "    }\n",
       "\n",
       "    .dataframe tbody tr th {\n",
       "        vertical-align: top;\n",
       "    }\n",
       "\n",
       "    .dataframe thead th {\n",
       "        text-align: right;\n",
       "    }\n",
       "</style>\n",
       "<table border=\"1\" class=\"dataframe\">\n",
       "  <thead>\n",
       "    <tr style=\"text-align: right;\">\n",
       "      <th></th>\n",
       "      <th>Title</th>\n",
       "      <th>Content</th>\n",
       "    </tr>\n",
       "  </thead>\n",
       "  <tbody>\n",
       "    <tr>\n",
       "      <th>0</th>\n",
       "      <td>Columbia University</td>\n",
       "      <td>Columbia University also known Columbia offici...</td>\n",
       "    </tr>\n",
       "    <tr>\n",
       "      <th>1</th>\n",
       "      <td>Fictional University</td>\n",
       "      <td>Fictional University officially private resear...</td>\n",
       "    </tr>\n",
       "    <tr>\n",
       "      <th>2</th>\n",
       "      <td>Third Document</td>\n",
       "      <td>Related private term third dissimilar prepared</td>\n",
       "    </tr>\n",
       "  </tbody>\n",
       "</table>\n",
       "</div>"
      ],
      "text/plain": [
       "                  Title                                            Content\n",
       "0   Columbia University  Columbia University also known Columbia offici...\n",
       "1  Fictional University  Fictional University officially private resear...\n",
       "2        Third Document     Related private term third dissimilar prepared"
      ]
     },
     "execution_count": 5,
     "metadata": {},
     "output_type": "execute_result"
    }
   ],
   "source": [
    "processed_database"
   ]
  },
  {
   "cell_type": "markdown",
   "metadata": {},
   "source": [
    "## Some quick glances at the data"
   ]
  },
  {
   "cell_type": "code",
   "execution_count": 15,
   "metadata": {},
   "outputs": [],
   "source": [
    "titles = processed_database[\"Title\"]\n",
    "contents = processed_database[\"Content\"]"
   ]
  },
  {
   "cell_type": "code",
   "execution_count": 11,
   "metadata": {},
   "outputs": [
    {
     "data": {
      "text/plain": [
       "0     Columbia University\n",
       "1    Fictional University\n",
       "2          Third Document\n",
       "Name: Title, dtype: object"
      ]
     },
     "execution_count": 11,
     "metadata": {},
     "output_type": "execute_result"
    }
   ],
   "source": [
    "titles"
   ]
  },
  {
   "cell_type": "code",
   "execution_count": 26,
   "metadata": {},
   "outputs": [
    {
     "data": {
      "text/plain": [
       "0    Columbia University also known Columbia offici...\n",
       "1    Fictional University officially private resear...\n",
       "2       Related private term third dissimilar prepared\n",
       "Name: Content, dtype: object"
      ]
     },
     "execution_count": 26,
     "metadata": {},
     "output_type": "execute_result"
    }
   ],
   "source": [
    "contents"
   ]
  },
  {
   "cell_type": "code",
   "execution_count": 32,
   "metadata": {},
   "outputs": [],
   "source": [
    "# ngram_range - lower and upper bounds on ngram lengths used\n",
    "# performs some preprocessing - e.g. by default makes everything lowercase\n",
    "count_vectorizer = CountVectorizer(ngram_range=(1,1), stop_words='english')\n",
    "# more efficient than fit and then transform\n",
    "counted_data = count_vectorizer.fit_transform(contents)"
   ]
  },
  {
   "cell_type": "code",
   "execution_count": 30,
   "metadata": {},
   "outputs": [],
   "source": [
    "document_term_matrix=pd.DataFrame(counted_data.toarray(), columns=count_vectorizer.get_feature_names_out(), index=titles)"
   ]
  },
  {
   "cell_type": "code",
   "execution_count": 37,
   "metadata": {},
   "outputs": [
    {
     "data": {
      "text/html": [
       "<div>\n",
       "<style scoped>\n",
       "    .dataframe tbody tr th:only-of-type {\n",
       "        vertical-align: middle;\n",
       "    }\n",
       "\n",
       "    .dataframe tbody tr th {\n",
       "        vertical-align: top;\n",
       "    }\n",
       "\n",
       "    .dataframe thead th {\n",
       "        text-align: right;\n",
       "    }\n",
       "</style>\n",
       "<table border=\"1\" class=\"dataframe\">\n",
       "  <thead>\n",
       "    <tr style=\"text-align: right;\">\n",
       "      <th></th>\n",
       "      <th>1754</th>\n",
       "      <th>belong</th>\n",
       "      <th>church</th>\n",
       "      <th>city</th>\n",
       "      <th>college</th>\n",
       "      <th>colleges</th>\n",
       "      <th>colonial</th>\n",
       "      <th>columbia</th>\n",
       "      <th>declaration</th>\n",
       "      <th>dissimilar</th>\n",
       "      <th>...</th>\n",
       "      <th>seven</th>\n",
       "      <th>states</th>\n",
       "      <th>term</th>\n",
       "      <th>trinity</th>\n",
       "      <th>united</th>\n",
       "      <th>universities</th>\n",
       "      <th>university</th>\n",
       "      <th>wave</th>\n",
       "      <th>world</th>\n",
       "      <th>york</th>\n",
       "    </tr>\n",
       "    <tr>\n",
       "      <th>Title</th>\n",
       "      <th></th>\n",
       "      <th></th>\n",
       "      <th></th>\n",
       "      <th></th>\n",
       "      <th></th>\n",
       "      <th></th>\n",
       "      <th></th>\n",
       "      <th></th>\n",
       "      <th></th>\n",
       "      <th></th>\n",
       "      <th></th>\n",
       "      <th></th>\n",
       "      <th></th>\n",
       "      <th></th>\n",
       "      <th></th>\n",
       "      <th></th>\n",
       "      <th></th>\n",
       "      <th></th>\n",
       "      <th></th>\n",
       "      <th></th>\n",
       "      <th></th>\n",
       "    </tr>\n",
       "  </thead>\n",
       "  <tbody>\n",
       "    <tr>\n",
       "      <th>Columbia University</th>\n",
       "      <td>1</td>\n",
       "      <td>1</td>\n",
       "      <td>1</td>\n",
       "      <td>2</td>\n",
       "      <td>1</td>\n",
       "      <td>1</td>\n",
       "      <td>1</td>\n",
       "      <td>5</td>\n",
       "      <td>1</td>\n",
       "      <td>0</td>\n",
       "      <td>...</td>\n",
       "      <td>1</td>\n",
       "      <td>1</td>\n",
       "      <td>0</td>\n",
       "      <td>1</td>\n",
       "      <td>1</td>\n",
       "      <td>1</td>\n",
       "      <td>3</td>\n",
       "      <td>0</td>\n",
       "      <td>1</td>\n",
       "      <td>3</td>\n",
       "    </tr>\n",
       "    <tr>\n",
       "      <th>Fictional University</th>\n",
       "      <td>0</td>\n",
       "      <td>0</td>\n",
       "      <td>0</td>\n",
       "      <td>0</td>\n",
       "      <td>0</td>\n",
       "      <td>0</td>\n",
       "      <td>0</td>\n",
       "      <td>0</td>\n",
       "      <td>0</td>\n",
       "      <td>0</td>\n",
       "      <td>...</td>\n",
       "      <td>0</td>\n",
       "      <td>0</td>\n",
       "      <td>0</td>\n",
       "      <td>0</td>\n",
       "      <td>0</td>\n",
       "      <td>0</td>\n",
       "      <td>1</td>\n",
       "      <td>1</td>\n",
       "      <td>0</td>\n",
       "      <td>0</td>\n",
       "    </tr>\n",
       "    <tr>\n",
       "      <th>Third Document</th>\n",
       "      <td>0</td>\n",
       "      <td>0</td>\n",
       "      <td>0</td>\n",
       "      <td>0</td>\n",
       "      <td>0</td>\n",
       "      <td>0</td>\n",
       "      <td>0</td>\n",
       "      <td>0</td>\n",
       "      <td>0</td>\n",
       "      <td>1</td>\n",
       "      <td>...</td>\n",
       "      <td>0</td>\n",
       "      <td>0</td>\n",
       "      <td>1</td>\n",
       "      <td>0</td>\n",
       "      <td>0</td>\n",
       "      <td>0</td>\n",
       "      <td>0</td>\n",
       "      <td>0</td>\n",
       "      <td>0</td>\n",
       "      <td>0</td>\n",
       "    </tr>\n",
       "  </tbody>\n",
       "</table>\n",
       "<p>3 rows × 46 columns</p>\n",
       "</div>"
      ],
      "text/plain": [
       "                      1754  belong  church  city  college  colleges  colonial  \\\n",
       "Title                                                                           \n",
       "Columbia University      1       1       1     2        1         1         1   \n",
       "Fictional University     0       0       0     0        0         0         0   \n",
       "Third Document           0       0       0     0        0         0         0   \n",
       "\n",
       "                      columbia  declaration  dissimilar  ...  seven  states  \\\n",
       "Title                                                    ...                  \n",
       "Columbia University          5            1           0  ...      1       1   \n",
       "Fictional University         0            0           0  ...      0       0   \n",
       "Third Document               0            0           1  ...      0       0   \n",
       "\n",
       "                      term  trinity  united  universities  university  wave  \\\n",
       "Title                                                                         \n",
       "Columbia University      0        1       1             1           3     0   \n",
       "Fictional University     0        0       0             0           1     1   \n",
       "Third Document           1        0       0             0           0     0   \n",
       "\n",
       "                      world  york  \n",
       "Title                              \n",
       "Columbia University       1     3  \n",
       "Fictional University      0     0  \n",
       "Third Document            0     0  \n",
       "\n",
       "[3 rows x 46 columns]"
      ]
     },
     "execution_count": 37,
     "metadata": {},
     "output_type": "execute_result"
    }
   ],
   "source": [
    "document_term_matrix"
   ]
  },
  {
   "cell_type": "code",
   "execution_count": 31,
   "metadata": {},
   "outputs": [
    {
     "data": {
      "text/plain": [
       "Index(['1754', 'belong', 'church', 'city', 'college', 'colleges', 'colonial',\n",
       "       'columbia', 'declaration', 'dissimilar', 'education', 'established',\n",
       "       'fictional', 'fifth', 'founded', 'george', 'grounds', 'higher',\n",
       "       'independence', 'institution', 'ivy', 'king', 'known', 'league',\n",
       "       'learning', 'manhattan', 'new', 'officially', 'old', 'oldest',\n",
       "       'prepared', 'prior', 'private', 'ranked', 'related', 'research',\n",
       "       'seven', 'states', 'term', 'trinity', 'united', 'universities',\n",
       "       'university', 'wave', 'world', 'york'],\n",
       "      dtype='object')"
      ]
     },
     "execution_count": 31,
     "metadata": {},
     "output_type": "execute_result"
    }
   ],
   "source": [
    "document_term_matrix.columns"
   ]
  },
  {
   "cell_type": "markdown",
   "metadata": {},
   "source": [
    "## Computing tf-idf"
   ]
  },
  {
   "cell_type": "code",
   "execution_count": 38,
   "metadata": {},
   "outputs": [],
   "source": [
    "tfidf_vectorizer = TfidfVectorizer(use_idf=True, smooth_idf=False) \n",
    "documents_TFIDF = pd.DataFrame(tfidf_vectorizer.fit_transform(contents).toarray(), index=titles, columns = tfidf_vectorizer.get_feature_names_out())"
   ]
  },
  {
   "cell_type": "code",
   "execution_count": 77,
   "metadata": {},
   "outputs": [
    {
     "data": {
      "text/plain": [
       "Title\n",
       "Columbia University     0.000000\n",
       "Fictional University    0.411062\n",
       "Third Document          0.000000\n",
       "Name: wave, dtype: float64"
      ]
     },
     "execution_count": 77,
     "metadata": {},
     "output_type": "execute_result"
    }
   ],
   "source": [
    "documents_TFIDF[\"wave\"]"
   ]
  },
  {
   "cell_type": "markdown",
   "metadata": {},
   "source": [
    "## Example search"
   ]
  },
  {
   "cell_type": "code",
   "execution_count": 86,
   "metadata": {},
   "outputs": [],
   "source": [
    "def search(query: str, idf: TfidfVectorizer, idfdf: pd.DataFrame, results_returned: int = 10):\n",
    "    # transform() can accept multiple documents/searches\n",
    "    # calculating tf-idf representation of the query\n",
    "    # returns: pairs (index of transformed document\n",
    "    #                       - in this function, we only search transform a single document,\n",
    "    #                       the query, so that's always 0 here;\n",
    "    #                 index of a term present both in the query and in the database/tf-idf dataframe\n",
    "    #                 )\n",
    "    # and the tf-idf value corresponding to that pair (document-term)\n",
    "    query = idf.transform([query])\n",
    "    # transforming the query to the familiar array format\n",
    "    # in relation to the just obtained result - we get the values at the positions corresponding\n",
    "    # to the term indices, and 0s everywhere else\n",
    "    # [0] used, because we assume that we pose a single query\n",
    "    query = query.toarray()[0]\n",
    "    # now the query is represented in the same tf-idf space, as the documents in the databse\n",
    "\n",
    "    # Getting the most similar documents\n",
    "    # for each row/document in the database, compute the cosine DISTANCE between it and the query\n",
    "    # important note: that is equal to 1-cos(angle between the vectors)\n",
    "    # then, sort the resulting dataframe by those values\n",
    "    # We want the documents such that the cosine distance between then and the query is low\n",
    "    # Therefore, we sort the results in ascending orfer, and pick a given number of the least distant ones\n",
    "    top_matches = idfdf.apply(lambda x: cosine(x, query), axis=1).sort_values(ascending=True)[:results_returned]\n",
    "    # returning 1-results, so that they represent the similarities batween the documents and the query,\n",
    "    # NOT the distance\n",
    "    return 1-top_matches"
   ]
  },
  {
   "cell_type": "code",
   "execution_count": 87,
   "metadata": {},
   "outputs": [
    {
     "data": {
      "text/plain": [
       "Title\n",
       "Fictional University    0.494731\n",
       "Columbia University     0.114646\n",
       "Third Document          0.000000\n",
       "dtype: float64"
      ]
     },
     "execution_count": 87,
     "metadata": {},
     "output_type": "execute_result"
    }
   ],
   "source": [
    "search(\"wave university\", tfidf_vectorizer, documents_TFIDF)"
   ]
  },
  {
   "cell_type": "markdown",
   "metadata": {},
   "source": [
    "## Refining the pipeline"
   ]
  },
  {
   "cell_type": "code",
   "execution_count": null,
   "metadata": {},
   "outputs": [],
   "source": [
    "def initialise_tfidf_database(path_to_csv: str):\n",
    "    # load database file\n",
    "    # the documents are assumed to have been processed already\n",
    "    documents_dataframe = pd.read_csv(path_to_csv)\n",
    "    documents_titles = documents_dataframe[\"Title\"]\n",
    "    documents_contents = documents_dataframe[\"Content\"]\n",
    "\n",
    "    # prepare tf-idf objects\n",
    "    tfidf_vectorizer = TfidfVectorizer(use_idf=True, smooth_idf=False)\n",
    "    tfidf_data = tfidf_vectorizer.fit_transform(documents_contents).toarray()\n",
    "    distinct_tfidf_terms = tfidf_vectorizer.get_feature_names_out()\n",
    "    documents_dataframe_TFIDF = pd.DataFrame(tfidf_data, index = documents_titles, columns = distinct_tfidf_terms)\n",
    "\n",
    "    return tfidf_vectorizer, documents_dataframe_TFIDF"
   ]
  }
 ],
 "metadata": {
  "kernelspec": {
   "display_name": "Python 3 (ipykernel)",
   "language": "python",
   "name": "python3"
  },
  "language_info": {
   "codemirror_mode": {
    "name": "ipython",
    "version": 3
   },
   "file_extension": ".py",
   "mimetype": "text/x-python",
   "name": "python",
   "nbconvert_exporter": "python",
   "pygments_lexer": "ipython3",
   "version": "3.8.10"
  },
  "vscode": {
   "interpreter": {
    "hash": "c261aea317cc0286b3b3261fbba9abdec21eaa57589985bb7a274bf54d6cc0a7"
   }
  }
 },
 "nbformat": 4,
 "nbformat_minor": 2
}
