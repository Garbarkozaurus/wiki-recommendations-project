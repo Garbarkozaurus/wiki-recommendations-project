{
 "cells": [
  {
   "cell_type": "code",
   "execution_count": 1,
   "id": "9e198483",
   "metadata": {},
   "outputs": [],
   "source": [
    "import nltk\n",
    "import re\n",
    "\n",
    "from nltk.stem import WordNetLemmatizer\n",
    "from nltk.corpus import stopwords\n",
    "from nltk.tokenize import word_tokenize\n",
    "\n",
    "#nltk.download('wordnet')\n",
    "#nltk.download('stopwords')"
   ]
  },
  {
   "cell_type": "markdown",
   "id": "7772a5e8",
   "metadata": {},
   "source": [
    "Import the articles we got from scraping"
   ]
  },
  {
   "cell_type": "code",
   "execution_count": 2,
   "id": "646746d0",
   "metadata": {},
   "outputs": [],
   "source": [
    "file = open(\"data/articles.txt\", \"r\")\n",
    "articles = dict()\n",
    "contents = file.readlines()"
   ]
  },
  {
   "cell_type": "code",
   "execution_count": 3,
   "id": "4202ae23",
   "metadata": {},
   "outputs": [],
   "source": [
    "for line in contents[1:]:\n",
    "    title, content = line.split(\";\")\n",
    "    articles[title] = content[1:-2] #Omit 0th and -1st characters as they are just unneeded quotation marks"
   ]
  },
  {
   "cell_type": "code",
   "execution_count": 4,
   "id": "42b70fbe",
   "metadata": {},
   "outputs": [
    {
     "name": "stdout",
     "output_type": "stream",
     "text": [
      "1000\n"
     ]
    }
   ],
   "source": [
    "print(len(articles.keys()))"
   ]
  },
  {
   "cell_type": "markdown",
   "id": "fb970f0f",
   "metadata": {},
   "source": [
    "Function used to:\n",
    "1. Remove annotations and \"this article is a stub..\" from the content\n",
    "2. Tokenize and remove stopwords and isolated punctuation\n",
    "3. Lemmatize the tokens using wordnet"
   ]
  },
  {
   "cell_type": "code",
   "execution_count": 5,
   "id": "85fb5428",
   "metadata": {},
   "outputs": [],
   "source": [
    "def prepareArticle(content):\n",
    "    #0.remove the annotations => [1], [2] etc., also remove \"this article is a stub...\"\n",
    "    no_annotations = re.sub('\\[\\d\\]', '', content)\n",
    "    no_stubs = re.sub('This .* is a stub. You can help Wikipedia by expanding it.', '', no_annotations)\n",
    "    lowercased = no_stubs.lower()\n",
    "    #1.tokenize and remove stopwords and punctuation\n",
    "    words = word_tokenize(lowercased)\n",
    "    stop = stopwords.words(\"english\")\n",
    "    tokenized = []\n",
    "    for word in words:\n",
    "        if word in stop or word in \",./!?#%*()[]{}:\\\"\\\"\\'\\'\\\\-=+_``\":\n",
    "            continue\n",
    "        else:\n",
    "            tokenized.append(word)\n",
    "    #2.lemmatize using wordnet\n",
    "    wordnet = WordNetLemmatizer()\n",
    "    lemmatized = []\n",
    "    for word in tokenized:\n",
    "        lemmatized.append(wordnet.lemmatize(word))\n",
    "    return \" \".join(lemmatized)"
   ]
  },
  {
   "cell_type": "markdown",
   "id": "ad7231a8",
   "metadata": {},
   "source": [
    "Some examples of it working"
   ]
  },
  {
   "cell_type": "code",
   "execution_count": 6,
   "id": "f532e9ff",
   "metadata": {},
   "outputs": [
    {
     "name": "stdout",
     "output_type": "stream",
     "text": [
      "Baron Beauchamp\n",
      "=======================================\n",
      "   The titles Baron Beauchamp and Viscount Beauchamp have been created several times throughout English and British history. There is an extant Viscountcy of Beauchamp, held by the Seymour family, Marquesses of Hertford.  The name Beauchamp (French \"beautiful/fair field\"), Latinised to de Bello Campo (\"from the beautiful field/fair field\"), is borne by three of the most ancient Anglo-Norman families which settled in England during the Norman Conquest of 1066: Beauchamp of Worcestershire, of Somerset and of Bedfordshire.[5] The surname was taken from their respective manors in Normandy and there is no evidence of any shared origin between the families of that name seated in those three separate counties. The Bedfordshire branch died out in the male line after only two generations. The heir of the Somerset branch was the powerful Seymour family, whilst the Worcestershire branch achieved the greatest power and prominence as Earls of Warwick.  (Descendants of the feudal barons of Hatch Beauchamp in Somerset)  The barony was unsuccessfully claimed in 1924 by Ulric Oliver Thynne.  This was the first barony created by letters patent, by King Richard II in 1387.[6] They were seated at Holt Castle, Worcestershire, a junior branch of the senior Elmley line.  Descended from Walter de Beauchamp (died 1303/6) of Beauchamp's Court, Alcester in Warwickshire and of Beauchamp Court, Powick in Worcestershire, Steward of the Household to King Edward I and  younger brother of William de Beauchamp, 9th Earl of Warwick (c.1238-1298), the first of his family to hold that title (inherited from their mother).  The Seymour family inherited the capital manor of Hatch Beauchamp (anciently Hache) due to the marriage of Roger Seymour (d.c.1361) to Cecily Beauchamp (d.1393), the aunt and heiress of John IV de Beauchamp, 3rd Baron Beauchamp (1330-1361),[7] feudal baron of Hatch Beauchamp.  See Marquess of Hertford for further Viscounts Beauchamp.  See Earl Beauchamp for descents.  John de Beauchamp, 1st Baron Beauchamp (1274–1336) John de Beauchamp, 2nd Baron Beauchamp (d. 1343) John de Beauchamp, 3rd Baron Beauchamp (1330–1361) (abeyant on his death) John de Beauchamp, 1st Baron Beauchamp de Warwick (1316–1360) Roger Beauchamp, 1st Baron Beauchamp of Bletso (died 1380) Sir Roger de Beauchamp (d. 3 May 1406) Sir John Beauchamp, de jure 3rd Baron Beauchamp of Bletsoe (d. 1412-1414) John de Beauchamp, 1st Baron Beauchamp (1319–1388) (forfeit 1388) John de Beauchamp, 2nd Baron Beauchamp (1378–1420) (attainder reversed 1398, forfeit in 1400 by renewal of attainder) John Beauchamp, 1st Baron Beauchamp (d. 1475) (great-great grandson of Walter de Beauchamp (died 1303/6)) Richard Beauchamp, 2nd Baron Beauchamp (1435–1503) Edward Seymour, 1st Viscount Beauchamp (created Earl of Hertford in 1537 and Duke of Somerset in 1547, forfeit in 1552) Edward Seymour, 1st Earl of Hertford, 1st Baron Beauchamp (1537–1621) William Seymour, 2nd Duke of Somerset, 2nd Baron Beauchamp (1587–1660) William Seymour, 3rd Duke of Somerset, 3rd Baron Beauchamp (1654–1671) John Seymour, 4th Duke of Somerset, 4th Baron Beauchamp (d. 1675) Francis Seymour, 5th Duke of Somerset, 5th Baron Beauchamp (1658–1678) Charles Seymour, 6th Duke of Somerset, 6th Barom Beauchamp (1662–1748) Algernon Seymour, 7th Duke of Somerset, 7th Baron Beauchamp (1684–1750) (Barony extinct on his death) Francis Seymour-Conway, 1st Earl of Hertford, 1st Viscount Beauchamp (1718–1794) (created Marquess of Hertford in 1793) William Lygon, 1st Baron Beauchamp (1747–1816) (created Earl Beauchamp in 1815) Beauchamp baronets\n",
      "=======================================\n",
      "title baron beauchamp viscount beauchamp created several time throughout english british history extant viscountcy beauchamp held seymour family marquess hertford name beauchamp french beautiful/fair field latinised de bello campo beautiful field/fair field borne three ancient anglo-norman family settled england norman conquest 1066 beauchamp worcestershire somerset bedfordshire surname taken respective manor normandy evidence shared origin family name seated three separate county bedfordshire branch died male line two generation heir somerset branch powerful seymour family whilst worcestershire branch achieved greatest power prominence earl warwick descendant feudal baron hatch beauchamp somerset barony unsuccessfully claimed 1924 ulric oliver thynne first barony created letter patent king richard ii 1387. seated holt castle worcestershire junior branch senior elmley line descended walter de beauchamp died 1303/6 beauchamp 's court alcester warwickshire beauchamp court powick worcestershire steward household king edward younger brother william de beauchamp 9th earl warwick c.1238-1298 first family hold title inherited mother seymour family inherited capital manor hatch beauchamp anciently hache due marriage roger seymour d.c.1361 cecily beauchamp d.1393 aunt heiress john iv de beauchamp 3rd baron beauchamp 1330-1361 feudal baron hatch beauchamp see marquess hertford viscount beauchamp see earl beauchamp descent john de beauchamp 1st baron beauchamp 1274–1336 john de beauchamp 2nd baron beauchamp d. 1343 john de beauchamp 3rd baron beauchamp 1330–1361 abeyant death john de beauchamp 1st baron beauchamp de warwick 1316–1360 roger beauchamp 1st baron beauchamp bletso died 1380 sir roger de beauchamp d. 3 may 1406 sir john beauchamp de jure 3rd baron beauchamp bletsoe d. 1412-1414 john de beauchamp 1st baron beauchamp 1319–1388 forfeit 1388 john de beauchamp 2nd baron beauchamp 1378–1420 attainder reversed 1398 forfeit 1400 renewal attainder john beauchamp 1st baron beauchamp d. 1475 great-great grandson walter de beauchamp died 1303/6 richard beauchamp 2nd baron beauchamp 1435–1503 edward seymour 1st viscount beauchamp created earl hertford 1537 duke somerset 1547 forfeit 1552 edward seymour 1st earl hertford 1st baron beauchamp 1537–1621 william seymour 2nd duke somerset 2nd baron beauchamp 1587–1660 william seymour 3rd duke somerset 3rd baron beauchamp 1654–1671 john seymour 4th duke somerset 4th baron beauchamp d. 1675 francis seymour 5th duke somerset 5th baron beauchamp 1658–1678 charles seymour 6th duke somerset 6th barom beauchamp 1662–1748 algernon seymour 7th duke somerset 7th baron beauchamp 1684–1750 barony extinct death francis seymour-conway 1st earl hertford 1st viscount beauchamp 1718–1794 created marquess hertford 1793 william lygon 1st baron beauchamp 1747–1816 created earl beauchamp 1815 beauchamp baronet\n"
     ]
    }
   ],
   "source": [
    "title = list(articles.keys())[111]\n",
    "print(title)\n",
    "print(\"=======================================\")\n",
    "print(articles[title])\n",
    "print(\"=======================================\")\n",
    "print(prepareArticle(articles[title]))"
   ]
  },
  {
   "cell_type": "markdown",
   "id": "35fba74a",
   "metadata": {},
   "source": [
    "Convert all articles"
   ]
  },
  {
   "cell_type": "code",
   "execution_count": 7,
   "id": "2957c54f",
   "metadata": {},
   "outputs": [],
   "source": [
    "converted = dict()\n",
    "for article in articles.keys():\n",
    "    converted[article] = prepareArticle(articles[article])"
   ]
  },
  {
   "cell_type": "code",
   "execution_count": 8,
   "id": "508656b4",
   "metadata": {},
   "outputs": [
    {
     "name": "stdout",
     "output_type": "stream",
     "text": [
      "1000\n"
     ]
    }
   ],
   "source": [
    "print(len(converted.keys()))"
   ]
  },
  {
   "cell_type": "markdown",
   "id": "003d9033",
   "metadata": {},
   "source": [
    "And save it in the articles.csv file"
   ]
  },
  {
   "cell_type": "code",
   "execution_count": 10,
   "id": "c6ee6395",
   "metadata": {},
   "outputs": [],
   "source": [
    "out = open(\"data/articles.csv\", \"w\")\n",
    "out.write(\"Title;Content\\n\")\n",
    "for title in converted.keys():\n",
    "    out.write(title+\";\"+converted[title]+\"\\n\")"
   ]
  }
 ],
 "metadata": {
  "kernelspec": {
   "display_name": "Python 3 (ipykernel)",
   "language": "python",
   "name": "python3"
  },
  "language_info": {
   "codemirror_mode": {
    "name": "ipython",
    "version": 3
   },
   "file_extension": ".py",
   "mimetype": "text/x-python",
   "name": "python",
   "nbconvert_exporter": "python",
   "pygments_lexer": "ipython3",
   "version": "3.8.10"
  },
  "vscode": {
   "interpreter": {
    "hash": "c261aea317cc0286b3b3261fbba9abdec21eaa57589985bb7a274bf54d6cc0a7"
   }
  }
 },
 "nbformat": 4,
 "nbformat_minor": 5
}
