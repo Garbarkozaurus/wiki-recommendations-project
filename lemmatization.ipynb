{
 "cells": [
  {
   "cell_type": "code",
   "execution_count": 1,
   "id": "9e198483",
   "metadata": {},
   "outputs": [],
   "source": [
    "import nltk\n",
    "import re\n",
    "\n",
    "from nltk.stem import WordNetLemmatizer\n",
    "from nltk.corpus import stopwords\n",
    "from nltk.tokenize import word_tokenize\n",
    "\n",
    "#nltk.download('wordnet')\n",
    "#nltk.download('stopwords')"
   ]
  },
  {
   "cell_type": "markdown",
   "id": "7772a5e8",
   "metadata": {},
   "source": [
    "Import the articles we got from scraping"
   ]
  },
  {
   "cell_type": "code",
   "execution_count": 2,
   "id": "646746d0",
   "metadata": {},
   "outputs": [],
   "source": [
    "file = open(\"data/articles.txt\", \"r\")\n",
    "articles = dict()\n",
    "contents = file.readlines()"
   ]
  },
  {
   "cell_type": "code",
   "execution_count": 3,
   "id": "4202ae23",
   "metadata": {},
   "outputs": [],
   "source": [
    "for line in contents[1:]:\n",
    "    title, content = line.split(\";\")\n",
    "    articles[title] = content[1:-2] #Omit 0th and -1st characters as they are just unneeded quotation marks"
   ]
  },
  {
   "cell_type": "code",
   "execution_count": 4,
   "id": "42b70fbe",
   "metadata": {},
   "outputs": [
    {
     "name": "stdout",
     "output_type": "stream",
     "text": [
      "1000\n"
     ]
    }
   ],
   "source": [
    "print(len(articles.keys()))"
   ]
  },
  {
   "cell_type": "markdown",
   "id": "fb970f0f",
   "metadata": {},
   "source": [
    "Function used to:\n",
    "1. Remove annotations and \"this article is a stub..\" from the content\n",
    "2. Tokenize and remove stopwords and isolated punctuation\n",
    "3. Lemmatize the tokens using wordnet"
   ]
  },
  {
   "cell_type": "code",
   "execution_count": 5,
   "id": "85fb5428",
   "metadata": {},
   "outputs": [],
   "source": [
    "def prepareArticle(content):\n",
    "    #0.remove the annotations => [1], [2] etc., also remove \"this article is a stub...\"\n",
    "    no_annotations = re.sub('\\[\\d\\]', '', content)\n",
    "    no_stubs = re.sub('This .* is a stub. You can help Wikipedia by expanding it.', '', no_annotations)\n",
    "    #1.tokenize and remove stopwords and punctuation\n",
    "    words = word_tokenize(no_stubs)\n",
    "    stop = stopwords.words(\"english\")\n",
    "    tokenized = []\n",
    "    for word in words:\n",
    "        if word in stop or word in \",./!?#%*()[]{}:\\\"\\\"\\'\\'\\\\-=+_``\":\n",
    "            continue\n",
    "        else:\n",
    "            tokenized.append(word)\n",
    "    #2.lemmatize using wordnet\n",
    "    wordnet = WordNetLemmatizer()\n",
    "    lemmatized = []\n",
    "    for word in tokenized:\n",
    "        lemmatized.append(wordnet.lemmatize(word))\n",
    "    return \" \".join(lemmatized)"
   ]
  },
  {
   "cell_type": "markdown",
   "id": "ad7231a8",
   "metadata": {},
   "source": [
    "Some examples of it working"
   ]
  },
  {
   "cell_type": "code",
   "execution_count": 6,
   "id": "f532e9ff",
   "metadata": {},
   "outputs": [
    {
     "name": "stdout",
     "output_type": "stream",
     "text": [
      "Mandraka Dam is a gravity dam on the Mandraka River near Mandraka in the Analamanga Region of Madagascar. The dam was constructed by a French firm by 1956 and creates Lake Mandraka.[1]The dam supplies water to a 24 megawatts (32,000 hp) hydroelectric power station 1.9 km (1.2 mi) to the east, down in the valley. The change in elevation between the dam and power station affords a hydraulic head on 226 metres (741 ft).[2][3] The dam and power station are operated and owned by Jirama and the four 6 megawatts (8,000 hp) Pelton turbine-generators were commissioned between 1958 and 1972.[4]\n",
      "=======================================\n",
      "Mandraka Dam gravity dam Mandraka River near Mandraka Analamanga Region Madagascar The dam constructed French firm 1956 creates Lake Mandraka.The dam supply water 24 megawatt 32,000 hp hydroelectric power station 1.9 km 1.2 mi east valley The change elevation dam power station affords hydraulic head 226 metre 741 ft The dam power station operated owned Jirama four 6 megawatt 8,000 hp Pelton turbine-generators commissioned 1958 1972\n"
     ]
    }
   ],
   "source": [
    "print(articles[\"Mandraka Dam\"])\n",
    "print(\"=======================================\")\n",
    "print(prepareArticle(articles[\"Mandraka Dam\"]))"
   ]
  },
  {
   "cell_type": "code",
   "execution_count": 7,
   "id": "88693213",
   "metadata": {},
   "outputs": [
    {
     "name": "stdout",
     "output_type": "stream",
     "text": [
      "Leptocypris taiaensis is a species of cyprinid fish endemic to Taia River, Little Scarcies River and Waanje River in Sierre Leone.[2]This Cyprinidae-related article is a stub. You can help Wikipedia by expanding it.\n",
      "=======================================\n",
      "Leptocypris taiaensis specie cyprinid fish endemic Taia River Little Scarcies River Waanje River Sierre Leone\n"
     ]
    }
   ],
   "source": [
    "print(articles[\"Leptocypris taiaensis\"])\n",
    "print(\"=======================================\")\n",
    "print(prepareArticle(articles[\"Leptocypris taiaensis\"]))"
   ]
  },
  {
   "cell_type": "code",
   "execution_count": 8,
   "id": "a9815dd6",
   "metadata": {},
   "outputs": [
    {
     "name": "stdout",
     "output_type": "stream",
     "text": [
      "The 2014 Coates Hire Ipswich 400 was a motor race meeting for the Australian sedan-based V8 Supercars. It was the eighth event of the 2014 International V8 Supercars Championship. It was held on the weekend of 1–3 August at the Queensland Raceway, near Ipswich, Queensland.This article related to sport in Australia is a stub. You can help Wikipedia by expanding it.\n",
      "=======================================\n",
      "The 2014 Coates Hire Ipswich 400 motor race meeting Australian sedan-based V8 Supercars It eighth event 2014 International V8 Supercars Championship It held weekend 1–3 August Queensland Raceway near Ipswich Queensland\n"
     ]
    }
   ],
   "source": [
    "print(articles[\"2014 Coates Hire Ipswich 400\"])\n",
    "print(\"=======================================\")\n",
    "print(prepareArticle(articles[\"2014 Coates Hire Ipswich 400\"]))"
   ]
  },
  {
   "cell_type": "markdown",
   "id": "35fba74a",
   "metadata": {},
   "source": [
    "Convert all articles"
   ]
  },
  {
   "cell_type": "code",
   "execution_count": 9,
   "id": "2957c54f",
   "metadata": {},
   "outputs": [],
   "source": [
    "converted = dict()\n",
    "for article in articles.keys():\n",
    "    converted[article] = prepareArticle(articles[article])"
   ]
  },
  {
   "cell_type": "code",
   "execution_count": 10,
   "id": "508656b4",
   "metadata": {},
   "outputs": [
    {
     "name": "stdout",
     "output_type": "stream",
     "text": [
      "1000\n"
     ]
    }
   ],
   "source": [
    "print(len(converted.keys()))"
   ]
  },
  {
   "cell_type": "markdown",
   "id": "003d9033",
   "metadata": {},
   "source": [
    "And save it in the articles.csv file"
   ]
  },
  {
   "cell_type": "code",
   "execution_count": 12,
   "id": "c6ee6395",
   "metadata": {},
   "outputs": [],
   "source": [
    "out = open(\"data/articles.csv\", \"w\")\n",
    "out.write(\"Title;Content\\n\")\n",
    "for title in converted.keys():\n",
    "    out.write(title+\";\"+converted[title]+\"\\n\")"
   ]
  }
 ],
 "metadata": {
  "kernelspec": {
   "display_name": "Python 3",
   "language": "python",
   "name": "python3"
  },
  "language_info": {
   "codemirror_mode": {
    "name": "ipython",
    "version": 3
   },
   "file_extension": ".py",
   "mimetype": "text/x-python",
   "name": "python",
   "nbconvert_exporter": "python",
   "pygments_lexer": "ipython3",
   "version": "3.11.0 (main, Oct 24 2022, 18:26:48) [MSC v.1933 64 bit (AMD64)]"
  },
  "vscode": {
   "interpreter": {
    "hash": "c261aea317cc0286b3b3261fbba9abdec21eaa57589985bb7a274bf54d6cc0a7"
   }
  }
 },
 "nbformat": 4,
 "nbformat_minor": 5
}
