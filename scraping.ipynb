{
 "cells": [
  {
   "cell_type": "code",
   "execution_count": 1,
   "id": "63829806",
   "metadata": {},
   "outputs": [],
   "source": [
    "import requests\n",
    "import bs4\n",
    "from time import sleep"
   ]
  },
  {
   "cell_type": "markdown",
   "id": "48b00132",
   "metadata": {},
   "source": [
    "Function used to get a maximum of 500 random wikipedia articles"
   ]
  },
  {
   "cell_type": "code",
   "execution_count": 2,
   "id": "c4f762a2",
   "metadata": {},
   "outputs": [],
   "source": [
    "def getRandomPages(n, session):\n",
    "    url = \"https://en.wikipedia.org/w/api.php\"\n",
    "    params = {\n",
    "        \"action\": \"query\",\n",
    "        \"rnnamespace\": 0,\n",
    "        \"format\": \"json\",\n",
    "        \"list\": \"random\",\n",
    "        \"rnlimit\": n\n",
    "    }\n",
    "    response = session.get(url=url, params=params)\n",
    "    data = response.json()\n",
    "    articles = []\n",
    "    for r in data['query']['random']:\n",
    "        articles.append(r['title'])\n",
    "    return articles"
   ]
  },
  {
   "cell_type": "markdown",
   "id": "252d3cf8",
   "metadata": {},
   "source": [
    "Function used to get the content of the article (url is just the title of the article with the space exchanged for a _ )"
   ]
  },
  {
   "cell_type": "code",
   "execution_count": 3,
   "id": "b2e92553",
   "metadata": {},
   "outputs": [],
   "source": [
    "def getText(title):\n",
    "    title = title.replace(\" \", \"_\")\n",
    "    wiki_main = \"https://en.wikipedia.org/wiki/\"\n",
    "    response = requests.get(wiki_main+title)\n",
    "    if response.status_code != 200:\n",
    "        return None\n",
    "    parsed = bs4.BeautifulSoup(response.text)\n",
    "    text = \"\"\n",
    "    for p in parsed.select('p'):\n",
    "        text += p.getText()\n",
    "    return text.replace(\"\\n\", \"\").replace(\";\", \",\")"
   ]
  },
  {
   "cell_type": "markdown",
   "id": "b0817a80",
   "metadata": {},
   "source": [
    "In order to get the article titles we need to start a session from requests and request 500 random articles (this is the max)"
   ]
  },
  {
   "cell_type": "code",
   "execution_count": 4,
   "id": "1cfad589",
   "metadata": {},
   "outputs": [],
   "source": [
    "S = requests.Session()"
   ]
  },
  {
   "cell_type": "code",
   "execution_count": 5,
   "id": "fe107bc5",
   "metadata": {},
   "outputs": [],
   "source": [
    "articles = getRandomPages(500, S)"
   ]
  },
  {
   "cell_type": "code",
   "execution_count": 6,
   "id": "b09bc10b",
   "metadata": {},
   "outputs": [
    {
     "name": "stdout",
     "output_type": "stream",
     "text": [
      "500\n"
     ]
    }
   ],
   "source": [
    "print(len(articles))"
   ]
  },
  {
   "cell_type": "markdown",
   "id": "14326fe3",
   "metadata": {},
   "source": [
    "And then get the rest (here I use a set of articles to make sure that they are all different)"
   ]
  },
  {
   "cell_type": "code",
   "execution_count": 7,
   "id": "00871bd4",
   "metadata": {},
   "outputs": [],
   "source": [
    "articles = set(articles)"
   ]
  },
  {
   "cell_type": "code",
   "execution_count": 9,
   "id": "7fce3d04",
   "metadata": {},
   "outputs": [],
   "source": [
    "while len(articles) < 1000:\n",
    "    articles = articles.union(set(getRandomPages(100, S)))\n",
    "    sleep(0.25)"
   ]
  },
  {
   "cell_type": "code",
   "execution_count": 10,
   "id": "bf9d807e",
   "metadata": {},
   "outputs": [
    {
     "name": "stdout",
     "output_type": "stream",
     "text": [
      "1000\n"
     ]
    }
   ],
   "source": [
    "print(len(articles))"
   ]
  },
  {
   "cell_type": "markdown",
   "id": "da3d7a0d",
   "metadata": {},
   "source": [
    "Now that we have 1000 different random article titles, we need to get the articles themselves"
   ]
  },
  {
   "cell_type": "code",
   "execution_count": 11,
   "id": "72abfe53",
   "metadata": {},
   "outputs": [],
   "source": [
    "contents = dict()\n",
    "for title in articles:\n",
    "    contents[title] = getText(title)\n",
    "    sleep(0.25)"
   ]
  },
  {
   "cell_type": "markdown",
   "id": "fe77117d",
   "metadata": {},
   "source": [
    "The contents of the articles with their titles are stored in the \"articles.txt\" file."
   ]
  },
  {
   "cell_type": "code",
   "execution_count": 14,
   "id": "64dc6058",
   "metadata": {},
   "outputs": [],
   "source": [
    "file = open(\"data/articles.txt\", \"w\")\n",
    "file.write(\"article;content\\n\")\n",
    "for title in contents.keys():\n",
    "    file.write(title+\";\\\"\"+contents[title]+\"\\\"\\n\")"
   ]
  }
 ],
 "metadata": {
  "kernelspec": {
   "display_name": "Python 3 (ipykernel)",
   "language": "python",
   "name": "python3"
  },
  "language_info": {
   "codemirror_mode": {
    "name": "ipython",
    "version": 3
   },
   "file_extension": ".py",
   "mimetype": "text/x-python",
   "name": "python",
   "nbconvert_exporter": "python",
   "pygments_lexer": "ipython3",
   "version": "3.8.10"
  }
 },
 "nbformat": 4,
 "nbformat_minor": 5
}
