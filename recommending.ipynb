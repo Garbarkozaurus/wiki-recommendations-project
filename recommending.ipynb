{
 "cells": [
  {
   "cell_type": "code",
   "execution_count": 1,
   "metadata": {},
   "outputs": [],
   "source": [
    "import pandas as pd\n",
    "from sklearn.feature_extraction.text import CountVectorizer, TfidfVectorizer\n",
    "import numpy as np\n",
    "from scipy.spatial.distance import cosine"
   ]
  },
  {
   "attachments": {},
   "cell_type": "markdown",
   "metadata": {},
   "source": [
    "## Loading csv data"
   ]
  },
  {
   "cell_type": "code",
   "execution_count": 4,
   "metadata": {},
   "outputs": [],
   "source": [
    "data_file = \"./data/dummy_docs.csv.txt\"\n",
    "processed_database = pd.read_csv(data_file)"
   ]
  },
  {
   "cell_type": "code",
   "execution_count": 5,
   "metadata": {},
   "outputs": [
    {
     "data": {
      "text/html": [
       "<div>\n",
       "<style scoped>\n",
       "    .dataframe tbody tr th:only-of-type {\n",
       "        vertical-align: middle;\n",
       "    }\n",
       "\n",
       "    .dataframe tbody tr th {\n",
       "        vertical-align: top;\n",
       "    }\n",
       "\n",
       "    .dataframe thead th {\n",
       "        text-align: right;\n",
       "    }\n",
       "</style>\n",
       "<table border=\"1\" class=\"dataframe\">\n",
       "  <thead>\n",
       "    <tr style=\"text-align: right;\">\n",
       "      <th></th>\n",
       "      <th>Title</th>\n",
       "      <th>Content</th>\n",
       "    </tr>\n",
       "  </thead>\n",
       "  <tbody>\n",
       "    <tr>\n",
       "      <th>0</th>\n",
       "      <td>Columbia University</td>\n",
       "      <td>Columbia University also known Columbia offici...</td>\n",
       "    </tr>\n",
       "    <tr>\n",
       "      <th>1</th>\n",
       "      <td>Fictional University</td>\n",
       "      <td>Fictional University officially private resear...</td>\n",
       "    </tr>\n",
       "    <tr>\n",
       "      <th>2</th>\n",
       "      <td>Third Document</td>\n",
       "      <td>Related private term third dissimilar prepared</td>\n",
       "    </tr>\n",
       "  </tbody>\n",
       "</table>\n",
       "</div>"
      ],
      "text/plain": [
       "                  Title                                            Content\n",
       "0   Columbia University  Columbia University also known Columbia offici...\n",
       "1  Fictional University  Fictional University officially private resear...\n",
       "2        Third Document     Related private term third dissimilar prepared"
      ]
     },
     "execution_count": 5,
     "metadata": {},
     "output_type": "execute_result"
    }
   ],
   "source": [
    "processed_database"
   ]
  },
  {
   "attachments": {},
   "cell_type": "markdown",
   "metadata": {},
   "source": [
    "## Some quick glances at the data"
   ]
  },
  {
   "cell_type": "code",
   "execution_count": 15,
   "metadata": {},
   "outputs": [],
   "source": [
    "titles = processed_database[\"Title\"]\n",
    "contents = processed_database[\"Content\"]"
   ]
  },
  {
   "cell_type": "code",
   "execution_count": 11,
   "metadata": {},
   "outputs": [
    {
     "data": {
      "text/plain": [
       "0     Columbia University\n",
       "1    Fictional University\n",
       "2          Third Document\n",
       "Name: Title, dtype: object"
      ]
     },
     "execution_count": 11,
     "metadata": {},
     "output_type": "execute_result"
    }
   ],
   "source": [
    "titles"
   ]
  },
  {
   "cell_type": "code",
   "execution_count": 26,
   "metadata": {},
   "outputs": [
    {
     "data": {
      "text/plain": [
       "0    Columbia University also known Columbia offici...\n",
       "1    Fictional University officially private resear...\n",
       "2       Related private term third dissimilar prepared\n",
       "Name: Content, dtype: object"
      ]
     },
     "execution_count": 26,
     "metadata": {},
     "output_type": "execute_result"
    }
   ],
   "source": [
    "contents"
   ]
  },
  {
   "cell_type": "code",
   "execution_count": 32,
   "metadata": {},
   "outputs": [],
   "source": [
    "# ngram_range - lower and upper bounds on ngram lengths used\n",
    "# performs some preprocessing - e.g. by default makes everything lowercase\n",
    "count_vectorizer = CountVectorizer(ngram_range=(1,1), stop_words='english')\n",
    "# more efficient than fit and then transform\n",
    "counted_data = count_vectorizer.fit_transform(contents)"
   ]
  },
  {
   "cell_type": "code",
   "execution_count": 30,
   "metadata": {},
   "outputs": [],
   "source": [
    "document_term_matrix=pd.DataFrame(counted_data.toarray(), columns=count_vectorizer.get_feature_names_out(), index=titles)"
   ]
  },
  {
   "cell_type": "code",
   "execution_count": 37,
   "metadata": {},
   "outputs": [
    {
     "data": {
      "text/html": [
       "<div>\n",
       "<style scoped>\n",
       "    .dataframe tbody tr th:only-of-type {\n",
       "        vertical-align: middle;\n",
       "    }\n",
       "\n",
       "    .dataframe tbody tr th {\n",
       "        vertical-align: top;\n",
       "    }\n",
       "\n",
       "    .dataframe thead th {\n",
       "        text-align: right;\n",
       "    }\n",
       "</style>\n",
       "<table border=\"1\" class=\"dataframe\">\n",
       "  <thead>\n",
       "    <tr style=\"text-align: right;\">\n",
       "      <th></th>\n",
       "      <th>1754</th>\n",
       "      <th>belong</th>\n",
       "      <th>church</th>\n",
       "      <th>city</th>\n",
       "      <th>college</th>\n",
       "      <th>colleges</th>\n",
       "      <th>colonial</th>\n",
       "      <th>columbia</th>\n",
       "      <th>declaration</th>\n",
       "      <th>dissimilar</th>\n",
       "      <th>...</th>\n",
       "      <th>seven</th>\n",
       "      <th>states</th>\n",
       "      <th>term</th>\n",
       "      <th>trinity</th>\n",
       "      <th>united</th>\n",
       "      <th>universities</th>\n",
       "      <th>university</th>\n",
       "      <th>wave</th>\n",
       "      <th>world</th>\n",
       "      <th>york</th>\n",
       "    </tr>\n",
       "    <tr>\n",
       "      <th>Title</th>\n",
       "      <th></th>\n",
       "      <th></th>\n",
       "      <th></th>\n",
       "      <th></th>\n",
       "      <th></th>\n",
       "      <th></th>\n",
       "      <th></th>\n",
       "      <th></th>\n",
       "      <th></th>\n",
       "      <th></th>\n",
       "      <th></th>\n",
       "      <th></th>\n",
       "      <th></th>\n",
       "      <th></th>\n",
       "      <th></th>\n",
       "      <th></th>\n",
       "      <th></th>\n",
       "      <th></th>\n",
       "      <th></th>\n",
       "      <th></th>\n",
       "      <th></th>\n",
       "    </tr>\n",
       "  </thead>\n",
       "  <tbody>\n",
       "    <tr>\n",
       "      <th>Columbia University</th>\n",
       "      <td>1</td>\n",
       "      <td>1</td>\n",
       "      <td>1</td>\n",
       "      <td>2</td>\n",
       "      <td>1</td>\n",
       "      <td>1</td>\n",
       "      <td>1</td>\n",
       "      <td>5</td>\n",
       "      <td>1</td>\n",
       "      <td>0</td>\n",
       "      <td>...</td>\n",
       "      <td>1</td>\n",
       "      <td>1</td>\n",
       "      <td>0</td>\n",
       "      <td>1</td>\n",
       "      <td>1</td>\n",
       "      <td>1</td>\n",
       "      <td>3</td>\n",
       "      <td>0</td>\n",
       "      <td>1</td>\n",
       "      <td>3</td>\n",
       "    </tr>\n",
       "    <tr>\n",
       "      <th>Fictional University</th>\n",
       "      <td>0</td>\n",
       "      <td>0</td>\n",
       "      <td>0</td>\n",
       "      <td>0</td>\n",
       "      <td>0</td>\n",
       "      <td>0</td>\n",
       "      <td>0</td>\n",
       "      <td>0</td>\n",
       "      <td>0</td>\n",
       "      <td>0</td>\n",
       "      <td>...</td>\n",
       "      <td>0</td>\n",
       "      <td>0</td>\n",
       "      <td>0</td>\n",
       "      <td>0</td>\n",
       "      <td>0</td>\n",
       "      <td>0</td>\n",
       "      <td>1</td>\n",
       "      <td>1</td>\n",
       "      <td>0</td>\n",
       "      <td>0</td>\n",
       "    </tr>\n",
       "    <tr>\n",
       "      <th>Third Document</th>\n",
       "      <td>0</td>\n",
       "      <td>0</td>\n",
       "      <td>0</td>\n",
       "      <td>0</td>\n",
       "      <td>0</td>\n",
       "      <td>0</td>\n",
       "      <td>0</td>\n",
       "      <td>0</td>\n",
       "      <td>0</td>\n",
       "      <td>1</td>\n",
       "      <td>...</td>\n",
       "      <td>0</td>\n",
       "      <td>0</td>\n",
       "      <td>1</td>\n",
       "      <td>0</td>\n",
       "      <td>0</td>\n",
       "      <td>0</td>\n",
       "      <td>0</td>\n",
       "      <td>0</td>\n",
       "      <td>0</td>\n",
       "      <td>0</td>\n",
       "    </tr>\n",
       "  </tbody>\n",
       "</table>\n",
       "<p>3 rows × 46 columns</p>\n",
       "</div>"
      ],
      "text/plain": [
       "                      1754  belong  church  city  college  colleges  colonial  \\\n",
       "Title                                                                           \n",
       "Columbia University      1       1       1     2        1         1         1   \n",
       "Fictional University     0       0       0     0        0         0         0   \n",
       "Third Document           0       0       0     0        0         0         0   \n",
       "\n",
       "                      columbia  declaration  dissimilar  ...  seven  states  \\\n",
       "Title                                                    ...                  \n",
       "Columbia University          5            1           0  ...      1       1   \n",
       "Fictional University         0            0           0  ...      0       0   \n",
       "Third Document               0            0           1  ...      0       0   \n",
       "\n",
       "                      term  trinity  united  universities  university  wave  \\\n",
       "Title                                                                         \n",
       "Columbia University      0        1       1             1           3     0   \n",
       "Fictional University     0        0       0             0           1     1   \n",
       "Third Document           1        0       0             0           0     0   \n",
       "\n",
       "                      world  york  \n",
       "Title                              \n",
       "Columbia University       1     3  \n",
       "Fictional University      0     0  \n",
       "Third Document            0     0  \n",
       "\n",
       "[3 rows x 46 columns]"
      ]
     },
     "execution_count": 37,
     "metadata": {},
     "output_type": "execute_result"
    }
   ],
   "source": [
    "document_term_matrix"
   ]
  },
  {
   "cell_type": "code",
   "execution_count": 31,
   "metadata": {},
   "outputs": [
    {
     "data": {
      "text/plain": [
       "Index(['1754', 'belong', 'church', 'city', 'college', 'colleges', 'colonial',\n",
       "       'columbia', 'declaration', 'dissimilar', 'education', 'established',\n",
       "       'fictional', 'fifth', 'founded', 'george', 'grounds', 'higher',\n",
       "       'independence', 'institution', 'ivy', 'king', 'known', 'league',\n",
       "       'learning', 'manhattan', 'new', 'officially', 'old', 'oldest',\n",
       "       'prepared', 'prior', 'private', 'ranked', 'related', 'research',\n",
       "       'seven', 'states', 'term', 'trinity', 'united', 'universities',\n",
       "       'university', 'wave', 'world', 'york'],\n",
       "      dtype='object')"
      ]
     },
     "execution_count": 31,
     "metadata": {},
     "output_type": "execute_result"
    }
   ],
   "source": [
    "document_term_matrix.columns"
   ]
  },
  {
   "attachments": {},
   "cell_type": "markdown",
   "metadata": {},
   "source": [
    "## Computing tf-idf"
   ]
  },
  {
   "cell_type": "code",
   "execution_count": 38,
   "metadata": {},
   "outputs": [],
   "source": [
    "tfidf_vectorizer=TfidfVectorizer(use_idf=True, smooth_idf=False) \n",
    "documents_TFIDF = pd.DataFrame(tfidf_vectorizer.fit_transform(contents).toarray(), index=titles, columns = tfidf_vectorizer.get_feature_names_out())"
   ]
  },
  {
   "cell_type": "code",
   "execution_count": 39,
   "metadata": {},
   "outputs": [
    {
     "data": {
      "text/html": [
       "<div>\n",
       "<style scoped>\n",
       "    .dataframe tbody tr th:only-of-type {\n",
       "        vertical-align: middle;\n",
       "    }\n",
       "\n",
       "    .dataframe tbody tr th {\n",
       "        vertical-align: top;\n",
       "    }\n",
       "\n",
       "    .dataframe thead th {\n",
       "        text-align: right;\n",
       "    }\n",
       "</style>\n",
       "<table border=\"1\" class=\"dataframe\">\n",
       "  <thead>\n",
       "    <tr style=\"text-align: right;\">\n",
       "      <th></th>\n",
       "      <th>1754</th>\n",
       "      <th>also</th>\n",
       "      <th>among</th>\n",
       "      <th>belong</th>\n",
       "      <th>church</th>\n",
       "      <th>city</th>\n",
       "      <th>college</th>\n",
       "      <th>colleges</th>\n",
       "      <th>colonial</th>\n",
       "      <th>columbia</th>\n",
       "      <th>...</th>\n",
       "      <th>third</th>\n",
       "      <th>top</th>\n",
       "      <th>trinity</th>\n",
       "      <th>united</th>\n",
       "      <th>universities</th>\n",
       "      <th>university</th>\n",
       "      <th>wave</th>\n",
       "      <th>which</th>\n",
       "      <th>world</th>\n",
       "      <th>york</th>\n",
       "    </tr>\n",
       "    <tr>\n",
       "      <th>Title</th>\n",
       "      <th></th>\n",
       "      <th></th>\n",
       "      <th></th>\n",
       "      <th></th>\n",
       "      <th></th>\n",
       "      <th></th>\n",
       "      <th></th>\n",
       "      <th></th>\n",
       "      <th></th>\n",
       "      <th></th>\n",
       "      <th></th>\n",
       "      <th></th>\n",
       "      <th></th>\n",
       "      <th></th>\n",
       "      <th></th>\n",
       "      <th></th>\n",
       "      <th></th>\n",
       "      <th></th>\n",
       "      <th></th>\n",
       "      <th></th>\n",
       "      <th></th>\n",
       "    </tr>\n",
       "  </thead>\n",
       "  <tbody>\n",
       "    <tr>\n",
       "      <th>Columbia University</th>\n",
       "      <td>0.102547</td>\n",
       "      <td>0.102547</td>\n",
       "      <td>0.102547</td>\n",
       "      <td>0.102547</td>\n",
       "      <td>0.102547</td>\n",
       "      <td>0.205094</td>\n",
       "      <td>0.102547</td>\n",
       "      <td>0.102547</td>\n",
       "      <td>0.102547</td>\n",
       "      <td>0.512735</td>\n",
       "      <td>...</td>\n",
       "      <td>0.000000</td>\n",
       "      <td>0.102547</td>\n",
       "      <td>0.102547</td>\n",
       "      <td>0.102547</td>\n",
       "      <td>0.102547</td>\n",
       "      <td>0.206031</td>\n",
       "      <td>0.000000</td>\n",
       "      <td>0.102547</td>\n",
       "      <td>0.102547</td>\n",
       "      <td>0.307641</td>\n",
       "    </tr>\n",
       "    <tr>\n",
       "      <th>Fictional University</th>\n",
       "      <td>0.000000</td>\n",
       "      <td>0.000000</td>\n",
       "      <td>0.000000</td>\n",
       "      <td>0.000000</td>\n",
       "      <td>0.000000</td>\n",
       "      <td>0.000000</td>\n",
       "      <td>0.000000</td>\n",
       "      <td>0.000000</td>\n",
       "      <td>0.000000</td>\n",
       "      <td>0.000000</td>\n",
       "      <td>...</td>\n",
       "      <td>0.000000</td>\n",
       "      <td>0.000000</td>\n",
       "      <td>0.000000</td>\n",
       "      <td>0.000000</td>\n",
       "      <td>0.000000</td>\n",
       "      <td>0.275293</td>\n",
       "      <td>0.411062</td>\n",
       "      <td>0.000000</td>\n",
       "      <td>0.000000</td>\n",
       "      <td>0.000000</td>\n",
       "    </tr>\n",
       "    <tr>\n",
       "      <th>Third Document</th>\n",
       "      <td>0.000000</td>\n",
       "      <td>0.000000</td>\n",
       "      <td>0.000000</td>\n",
       "      <td>0.000000</td>\n",
       "      <td>0.000000</td>\n",
       "      <td>0.000000</td>\n",
       "      <td>0.000000</td>\n",
       "      <td>0.000000</td>\n",
       "      <td>0.000000</td>\n",
       "      <td>0.000000</td>\n",
       "      <td>...</td>\n",
       "      <td>0.437393</td>\n",
       "      <td>0.000000</td>\n",
       "      <td>0.000000</td>\n",
       "      <td>0.000000</td>\n",
       "      <td>0.000000</td>\n",
       "      <td>0.000000</td>\n",
       "      <td>0.000000</td>\n",
       "      <td>0.000000</td>\n",
       "      <td>0.000000</td>\n",
       "      <td>0.000000</td>\n",
       "    </tr>\n",
       "  </tbody>\n",
       "</table>\n",
       "<p>3 rows × 53 columns</p>\n",
       "</div>"
      ],
      "text/plain": [
       "                          1754      also     among    belong    church  \\\n",
       "Title                                                                    \n",
       "Columbia University   0.102547  0.102547  0.102547  0.102547  0.102547   \n",
       "Fictional University  0.000000  0.000000  0.000000  0.000000  0.000000   \n",
       "Third Document        0.000000  0.000000  0.000000  0.000000  0.000000   \n",
       "\n",
       "                          city   college  colleges  colonial  columbia  ...  \\\n",
       "Title                                                                   ...   \n",
       "Columbia University   0.205094  0.102547  0.102547  0.102547  0.512735  ...   \n",
       "Fictional University  0.000000  0.000000  0.000000  0.000000  0.000000  ...   \n",
       "Third Document        0.000000  0.000000  0.000000  0.000000  0.000000  ...   \n",
       "\n",
       "                         third       top   trinity    united  universities  \\\n",
       "Title                                                                        \n",
       "Columbia University   0.000000  0.102547  0.102547  0.102547      0.102547   \n",
       "Fictional University  0.000000  0.000000  0.000000  0.000000      0.000000   \n",
       "Third Document        0.437393  0.000000  0.000000  0.000000      0.000000   \n",
       "\n",
       "                      university      wave     which     world      york  \n",
       "Title                                                                     \n",
       "Columbia University     0.206031  0.000000  0.102547  0.102547  0.307641  \n",
       "Fictional University    0.275293  0.411062  0.000000  0.000000  0.000000  \n",
       "Third Document          0.000000  0.000000  0.000000  0.000000  0.000000  \n",
       "\n",
       "[3 rows x 53 columns]"
      ]
     },
     "execution_count": 39,
     "metadata": {},
     "output_type": "execute_result"
    }
   ],
   "source": [
    "documents_TFIDF"
   ]
  },
  {
   "attachments": {},
   "cell_type": "markdown",
   "metadata": {},
   "source": [
    "## Example search"
   ]
  },
  {
   "cell_type": "code",
   "execution_count": 35,
   "metadata": {},
   "outputs": [],
   "source": [
    "def search(query, idf, idfdf):\n",
    "    query = idf.transform([query]).toarray()[0] \n",
    "    return 1-idfdf.apply(lambda x: cosine(x, query), axis=1).sort_values()[:10]"
   ]
  },
  {
   "cell_type": "code",
   "execution_count": 42,
   "metadata": {},
   "outputs": [
    {
     "data": {
      "text/plain": [
       "Title\n",
       "Fictional University    0.411062\n",
       "Columbia University     0.000000\n",
       "Third Document          0.000000\n",
       "dtype: float64"
      ]
     },
     "execution_count": 42,
     "metadata": {},
     "output_type": "execute_result"
    }
   ],
   "source": [
    "search(\"wave\", tfidf_vectorizer, documents_TFIDF)"
   ]
  }
 ],
 "metadata": {
  "kernelspec": {
   "display_name": "Python 3",
   "language": "python",
   "name": "python3"
  },
  "language_info": {
   "codemirror_mode": {
    "name": "ipython",
    "version": 3
   },
   "file_extension": ".py",
   "mimetype": "text/x-python",
   "name": "python",
   "nbconvert_exporter": "python",
   "pygments_lexer": "ipython3",
   "version": "3.11.0"
  },
  "orig_nbformat": 4,
  "vscode": {
   "interpreter": {
    "hash": "c261aea317cc0286b3b3261fbba9abdec21eaa57589985bb7a274bf54d6cc0a7"
   }
  }
 },
 "nbformat": 4,
 "nbformat_minor": 2
}
